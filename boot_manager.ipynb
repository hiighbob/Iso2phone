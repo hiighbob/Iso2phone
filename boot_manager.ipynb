{
 "cells": [
  {
   "cell_type": "markdown",
   "id": "f69bab99",
   "metadata": {},
   "source": [
    "# 🖥️ Boot Manager Notebook\n",
    "Permet de lancer un ISO depuis Google Drive ou une URL via QEMU + VNC/CRD"
   ]
  },
  {
   "cell_type": "code",
   "execution_count": null,
   "id": "62f68b48",
   "metadata": {},
   "outputs": [],
   "source": [
    "# TODO: Ajouter montage ISO, QEMU, VNC start\n",
    "print(\"Boot Manager en construction...\")"
   ]
  }
 ],
 "metadata": {
  "colab": {},
  "kernelspec": {
   "display_name": "Python 3",
   "name": "python3"
  }
 },
 "nbformat": 4,
 "nbformat_minor": 5
}
